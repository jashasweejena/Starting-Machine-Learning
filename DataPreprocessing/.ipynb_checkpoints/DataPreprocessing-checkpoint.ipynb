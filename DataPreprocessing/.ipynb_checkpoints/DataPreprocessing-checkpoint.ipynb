{
 "cells": [
  {
   "cell_type": "code",
   "execution_count": 28,
   "metadata": {},
   "outputs": [],
   "source": [
    "import sklearn.preprocessing\n",
    "import pandas as pd\n",
    "import numpy as np"
   ]
  },
  {
   "cell_type": "code",
   "execution_count": 26,
   "metadata": {},
   "outputs": [
    {
     "name": "stdout",
     "output_type": "stream",
     "text": [
      "['CleanupData.csv', 'DataPreprocessing.ipynb', '.ipynb_checkpoints']\n"
     ]
    }
   ],
   "source": [
    "import os\n",
    "print(os.listdir())"
   ]
  },
  {
   "cell_type": "code",
   "execution_count": 3,
   "metadata": {},
   "outputs": [],
   "source": [
    "dataFrame = pd.read_csv('./CleanupData.csv')"
   ]
  },
  {
   "cell_type": "code",
   "execution_count": 27,
   "metadata": {},
   "outputs": [
    {
     "data": {
      "text/html": [
       "<div>\n",
       "<style scoped>\n",
       "    .dataframe tbody tr th:only-of-type {\n",
       "        vertical-align: middle;\n",
       "    }\n",
       "\n",
       "    .dataframe tbody tr th {\n",
       "        vertical-align: top;\n",
       "    }\n",
       "\n",
       "    .dataframe thead th {\n",
       "        text-align: right;\n",
       "    }\n",
       "</style>\n",
       "<table border=\"1\" class=\"dataframe\">\n",
       "  <thead>\n",
       "    <tr style=\"text-align: right;\">\n",
       "      <th></th>\n",
       "      <th>State</th>\n",
       "      <th>Age</th>\n",
       "      <th>Pocket Money</th>\n",
       "      <th>Course Purchased</th>\n",
       "    </tr>\n",
       "  </thead>\n",
       "  <tbody>\n",
       "    <tr>\n",
       "      <th>0</th>\n",
       "      <td>Delhi</td>\n",
       "      <td>34.0</td>\n",
       "      <td>7200.0</td>\n",
       "      <td>No</td>\n",
       "    </tr>\n",
       "    <tr>\n",
       "      <th>1</th>\n",
       "      <td>Mumbai</td>\n",
       "      <td>17.0</td>\n",
       "      <td>4800.0</td>\n",
       "      <td>Yes</td>\n",
       "    </tr>\n",
       "    <tr>\n",
       "      <th>2</th>\n",
       "      <td>Banglore</td>\n",
       "      <td>20.0</td>\n",
       "      <td>5400.0</td>\n",
       "      <td>No</td>\n",
       "    </tr>\n",
       "    <tr>\n",
       "      <th>3</th>\n",
       "      <td>Mumbai</td>\n",
       "      <td>28.0</td>\n",
       "      <td>6100.0</td>\n",
       "      <td>No</td>\n",
       "    </tr>\n",
       "    <tr>\n",
       "      <th>4</th>\n",
       "      <td>Banglore</td>\n",
       "      <td>30.0</td>\n",
       "      <td>NaN</td>\n",
       "      <td>Yes</td>\n",
       "    </tr>\n",
       "  </tbody>\n",
       "</table>\n",
       "</div>"
      ],
      "text/plain": [
       "      State   Age  Pocket Money Course Purchased\n",
       "0     Delhi  34.0        7200.0               No\n",
       "1    Mumbai  17.0        4800.0              Yes\n",
       "2  Banglore  20.0        5400.0               No\n",
       "3    Mumbai  28.0        6100.0               No\n",
       "4  Banglore  30.0           NaN              Yes"
      ]
     },
     "execution_count": 27,
     "metadata": {},
     "output_type": "execute_result"
    }
   ],
   "source": [
    "dataFrame.head()"
   ]
  },
  {
   "cell_type": "markdown",
   "metadata": {},
   "source": [
    "## Independent and dependent matrices are just like independent and dependent variables"
   ]
  },
  {
   "cell_type": "code",
   "execution_count": 5,
   "metadata": {},
   "outputs": [
    {
     "data": {
      "text/plain": [
       "array([['Delhi', 34.0, 7200.0],\n",
       "       ['Mumbai', 17.0, 4800.0],\n",
       "       ['Banglore', 20.0, 5400.0],\n",
       "       ['Mumbai', 28.0, 6100.0],\n",
       "       ['Banglore', 30.0, nan],\n",
       "       ['Delhi', 25.0, 5800.0],\n",
       "       ['Mumbai', nan, 5200.0],\n",
       "       ['Delhi', 38.0, 7900.0],\n",
       "       ['Banglore', 40.0, 8300.0],\n",
       "       ['Delhi', 27.0, 6700.0]], dtype=object)"
      ]
     },
     "execution_count": 5,
     "metadata": {},
     "output_type": "execute_result"
    }
   ],
   "source": [
    "# Independent matrix\n",
    "X = dataFrame.iloc[ : , : -1].values\n",
    "X"
   ]
  },
  {
   "cell_type": "code",
   "execution_count": 29,
   "metadata": {
    "scrolled": true
   },
   "outputs": [
    {
     "data": {
      "text/plain": [
       "array(['No', 'Yes', 'No', 'No', 'Yes', 'Yes', 'No', 'Yes', 'No', 'Yes'],\n",
       "      dtype=object)"
      ]
     },
     "execution_count": 29,
     "metadata": {},
     "output_type": "execute_result"
    }
   ],
   "source": [
    "#dependent matrix\n",
    "y = dataFrame.iloc[ : , 3].values #Do add the .values at the end else it won't convert to a matrix\n",
    "y"
   ]
  },
  {
   "cell_type": "markdown",
   "metadata": {},
   "source": [
    "## Remove NaN values"
   ]
  },
  {
   "cell_type": "code",
   "execution_count": 30,
   "metadata": {
    "scrolled": true
   },
   "outputs": [
    {
     "data": {
      "text/plain": [
       "array([[   0.        ,    1.        ,    0.        ,   34.        ,\n",
       "        7200.        ],\n",
       "       [   0.        ,    0.        ,    1.        ,   17.        ,\n",
       "        4800.        ],\n",
       "       [   1.        ,    0.        ,    0.        ,   20.        ,\n",
       "        5400.        ],\n",
       "       [   0.        ,    0.        ,    1.        ,   28.        ,\n",
       "        6100.        ],\n",
       "       [   1.        ,    0.        ,    0.        ,   30.        ,\n",
       "        6377.77777778],\n",
       "       [   0.        ,    1.        ,    0.        ,   25.        ,\n",
       "        5800.        ],\n",
       "       [   0.        ,    0.        ,    1.        ,   28.77777778,\n",
       "        5200.        ],\n",
       "       [   0.        ,    1.        ,    0.        ,   38.        ,\n",
       "        7900.        ],\n",
       "       [   1.        ,    0.        ,    0.        ,   40.        ,\n",
       "        8300.        ],\n",
       "       [   0.        ,    1.        ,    0.        ,   27.        ,\n",
       "        6700.        ]])"
      ]
     },
     "execution_count": 30,
     "metadata": {},
     "output_type": "execute_result"
    }
   ],
   "source": [
    "#Use mean to fill NaN\n",
    "from sklearn.preprocessing import Imputer\n",
    "imputer = Imputer(missing_values='NaN', strategy='mean', axis=0)\n",
    "imputer.fit(X[:, 1:3])\n",
    "X[:, 1:3] = imputer.transform(X[:, 1:3])\n",
    "#Or instead of having fit and transform separately you could have used fit_transform\n",
    "X"
   ]
  },
  {
   "cell_type": "markdown",
   "metadata": {},
   "source": [
    "## Convert 'Delhi', 'Mumbai', 'Bangalore' to numbers from 0 through 2, each city having an unique number."
   ]
  },
  {
   "cell_type": "code",
   "execution_count": 31,
   "metadata": {
    "scrolled": true
   },
   "outputs": [
    {
     "data": {
      "text/plain": [
       "array([[   0.        ,    1.        ,    0.        ,   34.        ,\n",
       "        7200.        ],\n",
       "       [   0.        ,    0.        ,    1.        ,   17.        ,\n",
       "        4800.        ],\n",
       "       [   1.        ,    0.        ,    0.        ,   20.        ,\n",
       "        5400.        ],\n",
       "       [   0.        ,    0.        ,    1.        ,   28.        ,\n",
       "        6100.        ],\n",
       "       [   1.        ,    0.        ,    0.        ,   30.        ,\n",
       "        6377.77777778],\n",
       "       [   0.        ,    1.        ,    0.        ,   25.        ,\n",
       "        5800.        ],\n",
       "       [   0.        ,    0.        ,    1.        ,   28.77777778,\n",
       "        5200.        ],\n",
       "       [   0.        ,    1.        ,    0.        ,   38.        ,\n",
       "        7900.        ],\n",
       "       [   1.        ,    0.        ,    0.        ,   40.        ,\n",
       "        8300.        ],\n",
       "       [   0.        ,    1.        ,    0.        ,   27.        ,\n",
       "        6700.        ]])"
      ]
     },
     "execution_count": 31,
     "metadata": {},
     "output_type": "execute_result"
    }
   ],
   "source": [
    "#Convert categorical features to continuous data (Convert each of 'Delhi', 'Mumbai', 'Bangalore' into \n",
    "#arbitrary but continuous set of numbers)\n",
    "from sklearn.preprocessing import LabelEncoder\n",
    "labelencoder_X = LabelEncoder()\n",
    "X[:, 0] = labelencoder_X.fit_transform(X[:, 0])\n",
    "X"
   ]
  },
  {
   "cell_type": "markdown",
   "metadata": {},
   "source": [
    "## We do not want to say that delhi > mumbai but this can arise due to the numbering and can thus create a biased model, so we need to use OneHotEncoder to solve this"
   ]
  },
  {
   "cell_type": "code",
   "execution_count": 9,
   "metadata": {
    "scrolled": true
   },
   "outputs": [],
   "source": [
    "#But this data is biased as 2>1>0 which ranks some states above others and this may create a biased model. So we \n",
    "#split the data into a dummy matrix such that each row of the matrix represents a single value altogether.\n",
    "\n",
    "from sklearn.preprocessing import OneHotEncoder\n",
    "onehotencoder = OneHotEncoder(categorical_features=[0])"
   ]
  },
  {
   "cell_type": "code",
   "execution_count": 10,
   "metadata": {},
   "outputs": [],
   "source": [
    "X = onehotencoder.fit_transform(X).toarray()"
   ]
  },
  {
   "cell_type": "code",
   "execution_count": 11,
   "metadata": {},
   "outputs": [
    {
     "data": {
      "text/plain": [
       "array([[   0.        ,    1.        ,    0.        ,   34.        ,\n",
       "        7200.        ],\n",
       "       [   0.        ,    0.        ,    1.        ,   17.        ,\n",
       "        4800.        ],\n",
       "       [   1.        ,    0.        ,    0.        ,   20.        ,\n",
       "        5400.        ],\n",
       "       [   0.        ,    0.        ,    1.        ,   28.        ,\n",
       "        6100.        ],\n",
       "       [   1.        ,    0.        ,    0.        ,   30.        ,\n",
       "        6377.77777778],\n",
       "       [   0.        ,    1.        ,    0.        ,   25.        ,\n",
       "        5800.        ],\n",
       "       [   0.        ,    0.        ,    1.        ,   28.77777778,\n",
       "        5200.        ],\n",
       "       [   0.        ,    1.        ,    0.        ,   38.        ,\n",
       "        7900.        ],\n",
       "       [   1.        ,    0.        ,    0.        ,   40.        ,\n",
       "        8300.        ],\n",
       "       [   0.        ,    1.        ,    0.        ,   27.        ,\n",
       "        6700.        ]])"
      ]
     },
     "execution_count": 11,
     "metadata": {},
     "output_type": "execute_result"
    }
   ],
   "source": [
    "np.set_printoptions(suppress=True) #Doing this makes the matrix easier to read.\n",
    "X"
   ]
  },
  {
   "cell_type": "code",
   "execution_count": 12,
   "metadata": {},
   "outputs": [
    {
     "data": {
      "text/plain": [
       "array(['No', 'Yes', 'No', 'No', 'Yes', 'Yes', 'No', 'Yes', 'No', 'Yes'],\n",
       "      dtype=object)"
      ]
     },
     "execution_count": 12,
     "metadata": {},
     "output_type": "execute_result"
    }
   ],
   "source": [
    "y"
   ]
  },
  {
   "cell_type": "code",
   "execution_count": 32,
   "metadata": {},
   "outputs": [
    {
     "data": {
      "text/plain": [
       "array([0, 1, 0, 0, 1, 1, 0, 1, 0, 1])"
      ]
     },
     "execution_count": 32,
     "metadata": {},
     "output_type": "execute_result"
    }
   ],
   "source": [
    "labelencoder_y = LabelEncoder()\n",
    "y = labelencoder_y.fit_transform(y)\n",
    "y"
   ]
  },
  {
   "cell_type": "markdown",
   "metadata": {},
   "source": [
    "## Split the dataset into training and testing dataset"
   ]
  },
  {
   "cell_type": "code",
   "execution_count": 21,
   "metadata": {},
   "outputs": [],
   "source": [
    "#Split dataset into training and testing dataset\n",
    "from sklearn.model_selection import train_test_split\n",
    "X_train, X_test, y_train, y_test = train_test_split(X, y, train_size=0.8)"
   ]
  },
  {
   "cell_type": "code",
   "execution_count": 34,
   "metadata": {
    "scrolled": true
   },
   "outputs": [
    {
     "data": {
      "text/plain": [
       "array([[-0.57735027, -0.77459667,  1.29099445,  0.4984126 , -0.99185042],\n",
       "       [ 1.73205081, -0.77459667, -0.77459667,  0.73678385,  0.57151232],\n",
       "       [ 1.73205081, -0.77459667, -0.77459667, -1.21352633, -0.72637373],\n",
       "       [-0.57735027,  1.29099445, -0.77459667,  1.51690792,  1.6629165 ],\n",
       "       [-0.57735027, -0.77459667,  1.29099445, -1.79861939, -1.5228038 ],\n",
       "       [-0.57735027, -0.77459667,  1.29099445,  0.34672181,  0.20279469],\n",
       "       [-0.57735027,  1.29099445, -0.77459667,  0.15169079,  0.99922477],\n",
       "       [-0.57735027,  1.29099445, -0.77459667, -0.23837124, -0.19542034]])"
      ]
     },
     "execution_count": 34,
     "metadata": {},
     "output_type": "execute_result"
    }
   ],
   "source": [
    "X_train"
   ]
  },
  {
   "cell_type": "markdown",
   "metadata": {},
   "source": [
    "## Feature scaling scales each value between -1 to 1. Here, only needed for X coz y is already between -1 and 1"
   ]
  },
  {
   "cell_type": "code",
   "execution_count": 23,
   "metadata": {},
   "outputs": [],
   "source": [
    "#Feature scaling\n",
    "from sklearn.preprocessing import StandardScaler\n",
    "scale = StandardScaler()\n",
    "#Do fit_transform to training dataset and only transform to testing dataset. (REMEMBER FOR NOW!)\n",
    "X_train = scale.fit_transform(X_train)\n",
    "X_test = scale.transform(X_test)"
   ]
  },
  {
   "cell_type": "code",
   "execution_count": 24,
   "metadata": {},
   "outputs": [
    {
     "data": {
      "text/plain": [
       "array([[-0.57735027, -0.77459667,  1.29099445,  0.4984126 , -0.99185042],\n",
       "       [ 1.73205081, -0.77459667, -0.77459667,  0.73678385,  0.57151232],\n",
       "       [ 1.73205081, -0.77459667, -0.77459667, -1.21352633, -0.72637373],\n",
       "       [-0.57735027,  1.29099445, -0.77459667,  1.51690792,  1.6629165 ],\n",
       "       [-0.57735027, -0.77459667,  1.29099445, -1.79861939, -1.5228038 ],\n",
       "       [-0.57735027, -0.77459667,  1.29099445,  0.34672181,  0.20279469],\n",
       "       [-0.57735027,  1.29099445, -0.77459667,  0.15169079,  0.99922477],\n",
       "       [-0.57735027,  1.29099445, -0.77459667, -0.23837124, -0.19542034]])"
      ]
     },
     "execution_count": 24,
     "metadata": {},
     "output_type": "execute_result"
    }
   ],
   "source": [
    "X_train"
   ]
  },
  {
   "cell_type": "code",
   "execution_count": 25,
   "metadata": {},
   "outputs": [
    {
     "data": {
      "text/plain": [
       "array([[ 1.73205081, -0.77459667, -0.77459667,  2.68709402,  3.1230383 ],\n",
       "       [-0.57735027,  1.29099445, -0.77459667,  2.29703199,  2.59208492]])"
      ]
     },
     "execution_count": 25,
     "metadata": {},
     "output_type": "execute_result"
    }
   ],
   "source": [
    "X_test"
   ]
  },
  {
   "cell_type": "markdown",
   "metadata": {},
   "source": [
    "# Nais!"
   ]
  },
  {
   "cell_type": "code",
   "execution_count": null,
   "metadata": {},
   "outputs": [],
   "source": []
  }
 ],
 "metadata": {
  "kernelspec": {
   "display_name": "Python 3",
   "language": "python",
   "name": "python3"
  },
  "language_info": {
   "codemirror_mode": {
    "name": "ipython",
    "version": 3
   },
   "file_extension": ".py",
   "mimetype": "text/x-python",
   "name": "python",
   "nbconvert_exporter": "python",
   "pygments_lexer": "ipython3",
   "version": "3.6.5"
  }
 },
 "nbformat": 4,
 "nbformat_minor": 2
}
