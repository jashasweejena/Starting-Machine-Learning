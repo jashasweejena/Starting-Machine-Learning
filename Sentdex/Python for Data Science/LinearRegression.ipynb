{
 "cells": [
  {
   "cell_type": "code",
   "execution_count": 38,
   "metadata": {
    "scrolled": false
   },
   "outputs": [
    {
     "name": "stderr",
     "output_type": "stream",
     "text": [
      "/anaconda3/lib/python3.6/site-packages/sklearn/cross_validation.py:41: DeprecationWarning: This module was deprecated in version 0.18 in favor of the model_selection module into which all the refactored classes and functions are moved. Also note that the interface of the new CV iterators are different from that of this module. This module will be removed in 0.20.\n",
      "  \"This module will be removed in 0.20.\", DeprecationWarning)\n"
     ]
    },
    {
     "name": "stdout",
     "output_type": "stream",
     "text": [
      "              Open    High     Low    Close      Volume  Ex-Dividend  \\\n",
      "Date                                                                   \n",
      "2004-08-19  100.01  104.06   95.96  100.335  44659000.0          0.0   \n",
      "2004-08-20  101.01  109.08  100.50  108.310  22834300.0          0.0   \n",
      "\n",
      "            Split Ratio  Adj. Open  Adj. High   Adj. Low  Adj. Close  \\\n",
      "Date                                                                   \n",
      "2004-08-19          1.0  50.159839  52.191109  48.128568   50.322842   \n",
      "2004-08-20          1.0  50.661387  54.708881  50.405597   54.322689   \n",
      "\n",
      "            Adj. Volume  \n",
      "Date                     \n",
      "2004-08-19   44659000.0  \n",
      "2004-08-20   22834300.0  \n"
     ]
    }
   ],
   "source": [
    "import pandas as pd\n",
    "import quandl, math\n",
    "import numpy as np #Numpy helps use arrays, which python otherwise doesn't have.\n",
    "from sklearn import preprocessing #Preprocessing scales the features between [-1, 1] for efficiency factors.\n",
    "from sklearn import cross_validation #Shuffles dataset to remove any bias and also helps in breaking the dataset into training and testing dataset.\n",
    "from sklearn import svm #CozYolo!\n",
    "from sklearn.linear_model import LinearRegression\n",
    "\n",
    "api_key = 'kkvFCdVcnysTGUyMzLy1'\n",
    "\n",
    "quandl.ApiConfig.api_key = api_key\n",
    "\n",
    "df = quandl.get('WIKI/GOOGL')\n",
    "print(df.head(2))\n",
    "df = df[['Adj. Open', 'Adj. High', 'Adj. Low', 'Adj. Close', 'Adj. Volume',]] #Doing this helps us choose what all columns we wanna keep from all the columns that exist\n",
    "df['HL_PCT'] = ((df['Adj. High'] - df['Adj. Low']) / df['Adj. Low']) * 100 \n",
    "df['PCT_change'] = ((df['Adj. Close'] - df['Adj. Open']) / df['Adj. Close']) * 100\n",
    "\n",
    "df = df[['Adj. Close', 'HL_PCT', 'PCT_change', 'Adj. Volume',]] #Finally, these are the columns that we choose to keep."
   ]
  },
  {
   "cell_type": "code",
   "execution_count": 59,
   "metadata": {},
   "outputs": [
    {
     "name": "stdout",
     "output_type": "stream",
     "text": [
      "34\n"
     ]
    },
    {
     "data": {
      "text/html": [
       "<div>\n",
       "<style scoped>\n",
       "    .dataframe tbody tr th:only-of-type {\n",
       "        vertical-align: middle;\n",
       "    }\n",
       "\n",
       "    .dataframe tbody tr th {\n",
       "        vertical-align: top;\n",
       "    }\n",
       "\n",
       "    .dataframe thead th {\n",
       "        text-align: right;\n",
       "    }\n",
       "</style>\n",
       "<table border=\"1\" class=\"dataframe\">\n",
       "  <thead>\n",
       "    <tr style=\"text-align: right;\">\n",
       "      <th></th>\n",
       "      <th>Adj. Close</th>\n",
       "      <th>HL_PCT</th>\n",
       "      <th>PCT_change</th>\n",
       "      <th>Adj. Volume</th>\n",
       "      <th>label</th>\n",
       "    </tr>\n",
       "    <tr>\n",
       "      <th>Date</th>\n",
       "      <th></th>\n",
       "      <th></th>\n",
       "      <th></th>\n",
       "      <th></th>\n",
       "      <th></th>\n",
       "    </tr>\n",
       "  </thead>\n",
       "  <tbody>\n",
       "    <tr>\n",
       "      <th>2017-10-19</th>\n",
       "      <td>1001.84</td>\n",
       "      <td>1.004713</td>\n",
       "      <td>-0.290466</td>\n",
       "      <td>1677021.0</td>\n",
       "      <td>1049.38</td>\n",
       "    </tr>\n",
       "    <tr>\n",
       "      <th>2017-10-20</th>\n",
       "      <td>1005.07</td>\n",
       "      <td>0.636555</td>\n",
       "      <td>-0.197001</td>\n",
       "      <td>1568454.0</td>\n",
       "      <td>1051.97</td>\n",
       "    </tr>\n",
       "    <tr>\n",
       "      <th>2017-10-23</th>\n",
       "      <td>985.54</td>\n",
       "      <td>2.308005</td>\n",
       "      <td>-1.992816</td>\n",
       "      <td>1623580.0</td>\n",
       "      <td>1048.77</td>\n",
       "    </tr>\n",
       "    <tr>\n",
       "      <th>2017-10-24</th>\n",
       "      <td>988.49</td>\n",
       "      <td>1.246571</td>\n",
       "      <td>0.201317</td>\n",
       "      <td>1416283.0</td>\n",
       "      <td>1051.39</td>\n",
       "    </tr>\n",
       "    <tr>\n",
       "      <th>2017-10-25</th>\n",
       "      <td>991.46</td>\n",
       "      <td>1.708870</td>\n",
       "      <td>0.523470</td>\n",
       "      <td>1368042.0</td>\n",
       "      <td>1057.47</td>\n",
       "    </tr>\n",
       "  </tbody>\n",
       "</table>\n",
       "</div>"
      ],
      "text/plain": [
       "            Adj. Close    HL_PCT  PCT_change  Adj. Volume    label\n",
       "Date                                                              \n",
       "2017-10-19     1001.84  1.004713   -0.290466    1677021.0  1049.38\n",
       "2017-10-20     1005.07  0.636555   -0.197001    1568454.0  1051.97\n",
       "2017-10-23      985.54  2.308005   -1.992816    1623580.0  1048.77\n",
       "2017-10-24      988.49  1.246571    0.201317    1416283.0  1051.39\n",
       "2017-10-25      991.46  1.708870    0.523470    1368042.0  1057.47"
      ]
     },
     "execution_count": 59,
     "metadata": {},
     "output_type": "execute_result"
    }
   ],
   "source": [
    "forecast_col = 'Adj. Close' #This is much like String forecast_col = \"Adj. Close\" in java.\n",
    "df.fillna(-9999, inplace = True) #We dont wanna lose data while doing ML, so we fill all the N/A(NaN) places with -9999 which we can use to identify an outlier\n",
    "forecast_out = int(math.ceil(0.01*len(df))) #Defines by what percentage of the dataframe we wanna shift the below columns.\n",
    "print(forecast_out)\n",
    "\n",
    "df['label'] = df[forecast_col].shift(-forecast_out) #Shifts the columns above. (Shift column, not row.) Also, df['label'] copies df['forecast_col'] data shifted up by forecast_out value. df['label'] is kinda our dummy label\n",
    "df.dropna(inplace = True) #This drops all those rows which have N/A(NaN) in them\n",
    "df.tail() #Prints from back of dataframe."
   ]
  },
  {
   "cell_type": "code",
   "execution_count": 62,
   "metadata": {},
   "outputs": [
    {
     "name": "stdout",
     "output_type": "stream",
     "text": [
      "3321 3321\n",
      "0.977460984748078\n",
      "0.8181411612631375\n"
     ]
    }
   ],
   "source": [
    "X = np.array(df.drop(['label'], 1)) #Drop label col from df and make array\n",
    "y = np.array(df['label']) #y is label i.e whole 'label'.\n",
    "\n",
    "X = preprocessing.scale(X) #Scaling is done\n",
    "\n",
    "# X = X[:forecast_out + 1] #Get X only until forecast_out ##PS - Don't need to do this coz df contains only data till forecast_out as we shifted the data above and dropped the N/A columns.\n",
    "# y = np.array(df['label'])\n",
    "\n",
    "print(len(X), len(y))\n",
    "\n",
    "X_train, X_test, y_train, y_test = cross_validation.train_test_split(X, y, test_size=0.2)\n",
    "\n",
    "clf = LinearRegression()\n",
    "clf.fit(X_train, y_train) #Train the classifier on the training dataset\n",
    "\n",
    "#'fit' and 'score' are 'analogous' to 'train' and 'test'.\n",
    "\n",
    "accuracy_clf = clf.score(X_test, y_test) #Test the datset on testing dataset\n",
    "\n",
    "print(accuracy)\n",
    "\n",
    "support_vector_regression_classifier = svm.SVR()\n",
    "svr = support_vector_regression_classifier\n",
    "svr.fit(X_train, y_train)\n",
    "accuracy_SVR = svr.score(X_test, y_test)\n",
    "print(accuracy_SVR) \n",
    "\n",
    "#As svr yields less accuracy than regular LinearRegression, we don't use svr here."
   ]
  },
  {
   "cell_type": "code",
   "execution_count": null,
   "metadata": {},
   "outputs": [],
   "source": []
  },
  {
   "cell_type": "code",
   "execution_count": null,
   "metadata": {},
   "outputs": [],
   "source": []
  }
 ],
 "metadata": {
  "kernelspec": {
   "display_name": "Python 3",
   "language": "python",
   "name": "python3"
  },
  "language_info": {
   "codemirror_mode": {
    "name": "ipython",
    "version": 3
   },
   "file_extension": ".py",
   "mimetype": "text/x-python",
   "name": "python",
   "nbconvert_exporter": "python",
   "pygments_lexer": "ipython3",
   "version": "3.6.5"
  }
 },
 "nbformat": 4,
 "nbformat_minor": 2
}
