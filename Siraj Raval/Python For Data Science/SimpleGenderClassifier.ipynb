{
 "cells": [
  {
   "cell_type": "code",
   "execution_count": 1,
   "metadata": {},
   "outputs": [
    {
     "name": "stdout",
     "output_type": "stream",
     "text": [
      "['male' 'female']\n"
     ]
    }
   ],
   "source": [
    "from sklearn import tree\n",
    "\n",
    "#[height, weight, age]\n",
    "X = [[181, 80, 44], [177, 70, 43], [160, 60, 38], [154, 54, 37],\n",
    "\t [166, 65, 40], [190, 90, 47], [175, 64, 39], [177, 70, 40],\n",
    "\t [171, 75, 42], [181, 85, 32]]\n",
    "\n",
    "Y = ['male', 'female', 'female', 'female', 'male', 'male',\n",
    "\t 'male', 'female', 'male', 'male']\n",
    "\n",
    "clf = tree.DecisionTreeClassifier();\n",
    "\n",
    "clf = clf.fit(X, Y);\n",
    "\n",
    "prediction = clf.predict([[111, 80, 43], [77, 52, 88]])\n",
    "\n",
    "print(prediction)"
   ]
  }
 ],
 "metadata": {
  "kernelspec": {
   "display_name": "Python 3",
   "language": "python",
   "name": "python3"
  },
  "language_info": {
   "codemirror_mode": {
    "name": "ipython",
    "version": 3
   },
   "file_extension": ".py",
   "mimetype": "text/x-python",
   "name": "python",
   "nbconvert_exporter": "python",
   "pygments_lexer": "ipython3",
   "version": "3.6.5"
  }
 },
 "nbformat": 4,
 "nbformat_minor": 2
}
