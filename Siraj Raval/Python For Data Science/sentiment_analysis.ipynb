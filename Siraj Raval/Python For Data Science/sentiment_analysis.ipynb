{
 "cells": [
  {
   "cell_type": "code",
   "execution_count": 3,
   "metadata": {},
   "outputs": [
    {
     "name": "stdout",
     "output_type": "stream",
     "text": [
      "RT @theta_brain: Starting #100DaysOfMLCode inspired by Siraj Raval\n",
      "Sentiment(polarity=0.0, subjectivity=0.1)\n",
      "RT @NGarakapati: I accept #100DaysOfMLCode by Siraj raval. Hope I learn it in a great way.\n",
      "\n",
      "@sirajraval #MachineLearning #Datascience #AI\n",
      "Sentiment(polarity=0.8, subjectivity=0.75)\n",
      "RT @TrendingGithub: llSourcell / 100_Days_of_ML_Code: These are the instructions for \"100 Days of ML Code\" By Siraj Raval on Youtube ★143 h…\n",
      "Sentiment(polarity=0.0, subjectivity=0.0)\n",
      "I accept #100DaysOfMLCode by Siraj raval. Hope I learn it in a great way.\n",
      "\n",
      "@sirajraval #MachineLearning #Datascience #AI\n",
      "Sentiment(polarity=0.8, subjectivity=0.75)\n",
      "llSourcell / 100_Days_of_ML_Code: These are the instructions for \"100 Days of ML Code\" By Siraj Raval on Youtube ★1… https://t.co/PPU3lCuDMV\n",
      "Sentiment(polarity=0.0, subjectivity=0.0)\n",
      "Starting #100DaysOfMLCode inspired by Siraj Raval\n",
      "Sentiment(polarity=0.0, subjectivity=0.1)\n",
      "@DeepMindAI Very Impressive! I also liked Siraj Raval's explanation of GQNs.\n",
      "\n",
      "link: https://t.co/7NIzCElWlI\n",
      "Sentiment(polarity=0.8, subjectivity=0.9)\n",
      "llSourcell/Machine_Learning_Journey: This is the Curriculum for \"Machine Learning Journey\" By Siraj Raval on Youtube https://t.co/H3du3IVBVE\n",
      "Sentiment(polarity=0.0, subjectivity=0.0)\n",
      "Curriculum for “Machine Learning Journey” by Siraj Raval on YouTube https://t.co/ZL4ciKz6Ti\n",
      "Sentiment(polarity=0.0, subjectivity=0.0)\n",
      "\"With machine learning, if you can dream it, it can exist.\" -Siraj Raval\n",
      "Sentiment(polarity=0.0, subjectivity=0.0)\n",
      "Curriculum for “Machine Learning Journey” by Siraj Raval on YouTube https://t.co/pVEnafWOIT\n",
      "Sentiment(polarity=0.0, subjectivity=0.0)\n",
      "Curriculum for “Machine Learning Journey” by Siraj Raval on YouTube https://t.co/JiP80McfVK\n",
      "Sentiment(polarity=0.0, subjectivity=0.0)\n",
      "Curriculum for âMachine Learning Journeyâ by Siraj Raval on YouTube https://t.co/CjJnyLg93E\n",
      "Sentiment(polarity=0.0, subjectivity=0.0)\n",
      "@sirajraval I am like,\"I wish there was a video on this topic.\" \n",
      " *After one minute* \n",
      "Siraj Raval uploaded: *same topic*\n",
      "\n",
      "*Mind= blown*\n",
      "Sentiment(polarity=0.0, subjectivity=0.125)\n",
      "llSourcell/Learn_Deep_Learning_in_6_Weeks: This is the Curriculum for \"Learn Deep Learning in 6 Weeks\" by Siraj Rav… https://t.co/xwxswCgHmn\n",
      "Sentiment(polarity=0.0, subjectivity=0.4)\n"
     ]
    }
   ],
   "source": [
    "import tweepy as tp\n",
    "from textblob import TextBlob\n",
    "\n",
    "consumer_key = 'TdJsR8XS5zGgFOsJFxLXEXyuQ'\n",
    "consumer_secret = 'Valwd9DSlpvzl02JSplBksGZUD7ovkIHJ9Wm343A2vB3A61RXB'\n",
    "\n",
    "access_token = '314054361-tE8kRcZcL3CwQdZJOsFXjgVrYiFAI58O8e6Y6R7s'\n",
    "access_token_secret = 'wAxNKR270ZfdqExatlJlvXU5yVmxTpx4XT8K6SWdnQ9lS'\n",
    "\n",
    "auth = tp.OAuthHandler(consumer_key, consumer_secret)\n",
    "auth.set_access_token(access_token, access_token_secret)\n",
    "\n",
    "api = tp.API(auth)\n",
    "\n",
    "public_tweets = api.search('siraj raval')\n",
    "\n",
    "for tweet in public_tweets:\n",
    "    print(tweet.text)\n",
    "    analysis = TextBlob(tweet.text)\n",
    "    sentiment_analysis = analysis.sentiment\n",
    "    print(sentiment_analysis)\n"
   ]
  }
 ],
 "metadata": {
  "kernelspec": {
   "display_name": "Python 3",
   "language": "python",
   "name": "python3"
  },
  "language_info": {
   "codemirror_mode": {
    "name": "ipython",
    "version": 3
   },
   "file_extension": ".py",
   "mimetype": "text/x-python",
   "name": "python",
   "nbconvert_exporter": "python",
   "pygments_lexer": "ipython3",
   "version": "3.6.5"
  }
 },
 "nbformat": 4,
 "nbformat_minor": 2
}
